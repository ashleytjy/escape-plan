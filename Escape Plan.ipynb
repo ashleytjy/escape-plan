{
 "cells": [
  {
   "cell_type": "code",
   "execution_count": 1,
   "id": "3c37b2d0",
   "metadata": {},
   "outputs": [],
   "source": [
    "import keyboard\n",
    "import webbrowser"
   ]
  },
  {
   "cell_type": "code",
   "execution_count": 4,
   "id": "11538827",
   "metadata": {},
   "outputs": [],
   "source": [
    "def fn():\n",
    "    #print(\"opening browser\")\n",
    "    keyboard.press_and_release(\"ctrl+w\") #specify key combination to close tab, change to alt+tab if you'd prefer it\n",
    "    webbrowser.open('https://ntulearn.ntu.edu.sg/webapps/portal/execute/tabs/tabAction?tab_tab_group_id=_76_1', new = 1) \n",
    "    #opens this link - change it to open your preferred link \n",
    "    #If new is 0, the url is opened in the same browser window if possible. If new is 1, a new browser window is opened if possible. If new is 2, a new browser page (“tab”) is opened if possible\n",
    "    return\n",
    "        "
   ]
  },
  {
   "cell_type": "code",
   "execution_count": 5,
   "id": "e27553c9",
   "metadata": {
    "scrolled": false
   },
   "outputs": [
    {
     "data": {
      "text/plain": [
       "<function keyboard.hook_key.<locals>.remove_()>"
      ]
     },
     "execution_count": 5,
     "metadata": {},
     "output_type": "execute_result"
    },
    {
     "name": "stdout",
     "output_type": "stream",
     "text": [
      "opening browser\n"
     ]
    }
   ],
   "source": [
    "keyboard.on_press_key(\"esc\", lambda _:fn()) #function binded to esc key, change to any key combination you'd like"
   ]
  },
  {
   "cell_type": "code",
   "execution_count": 2,
   "id": "20cdacb5",
   "metadata": {},
   "outputs": [],
   "source": [
    "#to unlink this function from the keyboard\n",
    "#keyboard.unhook_all() "
   ]
  },
  {
   "cell_type": "code",
   "execution_count": null,
   "id": "d008c069",
   "metadata": {},
   "outputs": [],
   "source": []
  }
 ],
 "metadata": {
  "kernelspec": {
   "display_name": "Python 3",
   "language": "python",
   "name": "python3"
  },
  "language_info": {
   "codemirror_mode": {
    "name": "ipython",
    "version": 3
   },
   "file_extension": ".py",
   "mimetype": "text/x-python",
   "name": "python",
   "nbconvert_exporter": "python",
   "pygments_lexer": "ipython3",
   "version": "3.8.8"
  }
 },
 "nbformat": 4,
 "nbformat_minor": 5
}
